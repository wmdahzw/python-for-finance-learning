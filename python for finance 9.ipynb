{
 "cells": [
  {
   "cell_type": "code",
   "execution_count": 1,
   "metadata": {},
   "outputs": [],
   "source": [
    "from pylab import mpl,plt\n",
    "plt.style.use('seaborn')\n",
    "mpl.rcParams['font.family']='serif'\n",
    "%matplotlib inline"
   ]
  },
  {
   "cell_type": "code",
   "execution_count": 3,
   "metadata": {},
   "outputs": [],
   "source": [
    "import pickle\n",
    "import numpy as np\n",
    "from random import gauss"
   ]
  },
  {
   "cell_type": "code",
   "execution_count": 4,
   "metadata": {},
   "outputs": [],
   "source": [
    "a=[gauss(1.5,2)for i in range(1000000)]\n",
    "path='d:/python/'\n",
    "pkl_file=open(path+'data.pkl','wb')"
   ]
  },
  {
   "cell_type": "code",
   "execution_count": 5,
   "metadata": {},
   "outputs": [
    {
     "name": "stdout",
     "output_type": "stream",
     "text": [
      "Wall time: 111 ms\n"
     ]
    }
   ],
   "source": [
    "%time pickle.dump(a,pkl_file)"
   ]
  },
  {
   "cell_type": "code",
   "execution_count": 6,
   "metadata": {},
   "outputs": [],
   "source": [
    "pkl_file.close()"
   ]
  },
  {
   "cell_type": "code",
   "execution_count": 7,
   "metadata": {},
   "outputs": [],
   "source": [
    "pkl_file=open(path+'data.pkl','rb')"
   ]
  },
  {
   "cell_type": "code",
   "execution_count": 8,
   "metadata": {},
   "outputs": [
    {
     "name": "stdout",
     "output_type": "stream",
     "text": [
      "Wall time: 191 ms\n"
     ]
    }
   ],
   "source": [
    "%time b=pickle.load(pkl_file)"
   ]
  },
  {
   "cell_type": "code",
   "execution_count": 9,
   "metadata": {},
   "outputs": [
    {
     "data": {
      "text/plain": [
       "[-0.6164234463020097, 2.793633407659571, 2.7813564751826756]"
      ]
     },
     "execution_count": 9,
     "metadata": {},
     "output_type": "execute_result"
    }
   ],
   "source": [
    "a[:3]"
   ]
  },
  {
   "cell_type": "code",
   "execution_count": 10,
   "metadata": {},
   "outputs": [
    {
     "data": {
      "text/plain": [
       "[-0.6164234463020097, 2.793633407659571, 2.7813564751826756]"
      ]
     },
     "execution_count": 10,
     "metadata": {},
     "output_type": "execute_result"
    }
   ],
   "source": [
    "b[:3]"
   ]
  },
  {
   "cell_type": "code",
   "execution_count": 11,
   "metadata": {},
   "outputs": [
    {
     "data": {
      "text/plain": [
       "True"
      ]
     },
     "execution_count": 11,
     "metadata": {},
     "output_type": "execute_result"
    }
   ],
   "source": [
    "np.allclose(np.array(a),np.array(b))"
   ]
  },
  {
   "cell_type": "code",
   "execution_count": 12,
   "metadata": {},
   "outputs": [],
   "source": [
    "import pandas as pd"
   ]
  },
  {
   "cell_type": "code",
   "execution_count": 13,
   "metadata": {},
   "outputs": [],
   "source": [
    "rows=5000\n",
    "a=np.random.standard_normal((rows,5)).round(4)"
   ]
  },
  {
   "cell_type": "code",
   "execution_count": 14,
   "metadata": {},
   "outputs": [
    {
     "data": {
      "text/plain": [
       "array([[-0.3253, -0.6045,  0.6098, -2.1527, -0.2484],\n",
       "       [ 0.1236,  1.9481, -0.8351,  1.5678, -0.188 ],\n",
       "       [-0.1633,  0.1099,  1.7135,  0.9856,  2.2797],\n",
       "       ...,\n",
       "       [ 0.1164, -0.4453,  2.3515, -0.0847,  0.1904],\n",
       "       [-0.7386,  0.0562,  0.0353, -0.4213,  0.3493],\n",
       "       [ 1.8786, -1.1595, -1.528 , -1.4732,  0.6228]])"
      ]
     },
     "execution_count": 14,
     "metadata": {},
     "output_type": "execute_result"
    }
   ],
   "source": [
    "a"
   ]
  },
  {
   "cell_type": "code",
   "execution_count": 15,
   "metadata": {},
   "outputs": [],
   "source": [
    "t=pd.date_range(start='2019/1/1',periods=rows,freq='H')"
   ]
  },
  {
   "cell_type": "code",
   "execution_count": 16,
   "metadata": {},
   "outputs": [
    {
     "data": {
      "text/plain": [
       "DatetimeIndex(['2019-01-01 00:00:00', '2019-01-01 01:00:00',\n",
       "               '2019-01-01 02:00:00', '2019-01-01 03:00:00',\n",
       "               '2019-01-01 04:00:00', '2019-01-01 05:00:00',\n",
       "               '2019-01-01 06:00:00', '2019-01-01 07:00:00',\n",
       "               '2019-01-01 08:00:00', '2019-01-01 09:00:00',\n",
       "               ...\n",
       "               '2019-07-27 22:00:00', '2019-07-27 23:00:00',\n",
       "               '2019-07-28 00:00:00', '2019-07-28 01:00:00',\n",
       "               '2019-07-28 02:00:00', '2019-07-28 03:00:00',\n",
       "               '2019-07-28 04:00:00', '2019-07-28 05:00:00',\n",
       "               '2019-07-28 06:00:00', '2019-07-28 07:00:00'],\n",
       "              dtype='datetime64[ns]', length=5000, freq='H')"
      ]
     },
     "execution_count": 16,
     "metadata": {},
     "output_type": "execute_result"
    }
   ],
   "source": [
    "t"
   ]
  },
  {
   "cell_type": "code",
   "execution_count": 17,
   "metadata": {},
   "outputs": [],
   "source": [
    "csv_file=open(path+'data.csv','w')\n",
    "header='date,no1,no2,no3,no4,no5\\n'\n",
    "csv_file.write(header)\n",
    "for t_,(no1,no2,no3,no4,no5) in zip(t,a):\n",
    "    s='{},{},{},{},{},{}\\n'.format(t_,no1,no2,no3,no4,no5)\n",
    "    csv_file.write(s)\n",
    "csv_file.close()"
   ]
  },
  {
   "cell_type": "code",
   "execution_count": 18,
   "metadata": {},
   "outputs": [
    {
     "ename": "SyntaxError",
     "evalue": "invalid syntax (<ipython-input-18-8215dc96d58d>, line 1)",
     "output_type": "error",
     "traceback": [
      "\u001b[1;36m  File \u001b[1;32m\"<ipython-input-18-8215dc96d58d>\"\u001b[1;36m, line \u001b[1;32m1\u001b[0m\n\u001b[1;33m    ll $path*\u001b[0m\n\u001b[1;37m       ^\u001b[0m\n\u001b[1;31mSyntaxError\u001b[0m\u001b[1;31m:\u001b[0m invalid syntax\n"
     ]
    }
   ],
   "source": [
    "ll $path*"
   ]
  },
  {
   "cell_type": "code",
   "execution_count": 20,
   "metadata": {},
   "outputs": [
    {
     "data": {
      "text/plain": [
       "[['date', 'no1', 'no2', 'no3', 'no4', 'no5'],\n",
       " ['2019-01-01 00:00:00', '-0.3253', '-0.6045', '0.6098', '-2.1527', '-0.2484'],\n",
       " ['2019-01-01 01:00:00', '0.1236', '1.9481', '-0.8351', '1.5678', '-0.188'],\n",
       " ['2019-01-01 02:00:00', '-0.1633', '0.1099', '1.7135', '0.9856', '2.2797'],\n",
       " ['2019-01-01 03:00:00', '-1.6511', '0.5171', '3.1239', '-0.3214', '-0.4615']]"
      ]
     },
     "execution_count": 20,
     "metadata": {},
     "output_type": "execute_result"
    }
   ],
   "source": [
    "import csv\n",
    "with open(path+'data.csv','r') as f:\n",
    "    csv_reader=csv.reader(f)\n",
    "    lines=[line for line in csv_reader]\n",
    "lines[:5]"
   ]
  },
  {
   "cell_type": "code",
   "execution_count": 22,
   "metadata": {},
   "outputs": [
    {
     "data": {
      "text/plain": [
       "[OrderedDict([('date', '2019-01-01 00:00:00'),\n",
       "              ('no1', '-0.3253'),\n",
       "              ('no2', '-0.6045'),\n",
       "              ('no3', '0.6098'),\n",
       "              ('no4', '-2.1527'),\n",
       "              ('no5', '-0.2484')]),\n",
       " OrderedDict([('date', '2019-01-01 01:00:00'),\n",
       "              ('no1', '0.1236'),\n",
       "              ('no2', '1.9481'),\n",
       "              ('no3', '-0.8351'),\n",
       "              ('no4', '1.5678'),\n",
       "              ('no5', '-0.188')]),\n",
       " OrderedDict([('date', '2019-01-01 02:00:00'),\n",
       "              ('no1', '-0.1633'),\n",
       "              ('no2', '0.1099'),\n",
       "              ('no3', '1.7135'),\n",
       "              ('no4', '0.9856'),\n",
       "              ('no5', '2.2797')]),\n",
       " OrderedDict([('date', '2019-01-01 03:00:00'),\n",
       "              ('no1', '-1.6511'),\n",
       "              ('no2', '0.5171'),\n",
       "              ('no3', '3.1239'),\n",
       "              ('no4', '-0.3214'),\n",
       "              ('no5', '-0.4615')]),\n",
       " OrderedDict([('date', '2019-01-01 04:00:00'),\n",
       "              ('no1', '-0.605'),\n",
       "              ('no2', '0.355'),\n",
       "              ('no3', '0.5914'),\n",
       "              ('no4', '1.329'),\n",
       "              ('no5', '0.4632')])]"
      ]
     },
     "execution_count": 22,
     "metadata": {},
     "output_type": "execute_result"
    }
   ],
   "source": [
    "with open(path+'data.csv','r')as f:\n",
    "    csv_reader=csv.DictReader(f)\n",
    "    lines=[line for line in csv_reader]\n",
    "lines[:5]"
   ]
  },
  {
   "cell_type": "code",
   "execution_count": 23,
   "metadata": {},
   "outputs": [
    {
     "name": "stderr",
     "output_type": "stream",
     "text": [
      "'rm' 不是内部或外部命令，也不是可运行的程序\n",
      "或批处理文件。\n"
     ]
    }
   ],
   "source": [
    "!rm -f $path*"
   ]
  },
  {
   "cell_type": "code",
   "execution_count": 24,
   "metadata": {},
   "outputs": [],
   "source": [
    "f.close()"
   ]
  },
  {
   "cell_type": "code",
   "execution_count": 3,
   "metadata": {},
   "outputs": [
    {
     "data": {
      "text/plain": [
       "[('table',\n",
       "  'numbs',\n",
       "  'numbs',\n",
       "  2,\n",
       "  'CREATE TABLE numbs(Date date,No1 real,No2 real)')]"
      ]
     },
     "execution_count": 3,
     "metadata": {},
     "output_type": "execute_result"
    }
   ],
   "source": [
    "path='d:/python/'\n",
    "import sqlite3 as sq3\n",
    "con=sq3.connect(path+'numbs.db')\n",
    "query='CREATE TABLE numbs(Date date,No1 real,No2 real)'\n",
    "con.execute(query)\n",
    "con.commit()\n",
    "q=con.execute\n",
    "q('SELECT * FROM sqlite_master').fetchall()"
   ]
  },
  {
   "cell_type": "code",
   "execution_count": 5,
   "metadata": {},
   "outputs": [
    {
     "data": {
      "text/plain": [
       "<sqlite3.Cursor at 0x3d7ab44180>"
      ]
     },
     "execution_count": 5,
     "metadata": {},
     "output_type": "execute_result"
    }
   ],
   "source": [
    "import datetime\n",
    "now=datetime.datetime.now()\n",
    "q('INSERT INTO numbs VALUES(?,?,?)',(now,0.12,7.3))"
   ]
  },
  {
   "cell_type": "code",
   "execution_count": 7,
   "metadata": {},
   "outputs": [],
   "source": [
    "import numpy as np\n",
    "import pandas as pd"
   ]
  },
  {
   "cell_type": "code",
   "execution_count": 8,
   "metadata": {},
   "outputs": [],
   "source": [
    "np.random.seed(100)"
   ]
  },
  {
   "cell_type": "code",
   "execution_count": 9,
   "metadata": {},
   "outputs": [],
   "source": [
    "data=np.random.standard_normal((10000,2)).round(4)"
   ]
  },
  {
   "cell_type": "code",
   "execution_count": 11,
   "metadata": {},
   "outputs": [
    {
     "name": "stdout",
     "output_type": "stream",
     "text": [
      "Wall time: 2min 37s\n"
     ]
    }
   ],
   "source": [
    "%%time\n",
    "for row in data:\n",
    "    now=datetime.datetime.now()\n",
    "    q('INSERT INTO numbs VALUES(?,?,?)',(now,row[0],row[1]))\n",
    "    con.commit()"
   ]
  },
  {
   "cell_type": "code",
   "execution_count": 12,
   "metadata": {},
   "outputs": [
    {
     "data": {
      "text/plain": [
       "[('2020-06-05 14:10:11.236539', 0.12, 7.3),\n",
       " ('2020-06-05 17:11:02.466032', -1.7498, 0.3427),\n",
       " ('2020-06-05 17:11:02.485045', 1.153, -0.2524),\n",
       " ('2020-06-05 17:11:02.501059', 0.9813, 0.5142)]"
      ]
     },
     "execution_count": 12,
     "metadata": {},
     "output_type": "execute_result"
    }
   ],
   "source": [
    "q('SELECT * FROM numbs').fetchmany(4)"
   ]
  },
  {
   "cell_type": "code",
   "execution_count": 13,
   "metadata": {},
   "outputs": [
    {
     "data": {
      "text/plain": [
       "[('2020-06-05 17:11:02.485045', 1.153, -0.2524),\n",
       " ('2020-06-05 17:11:02.501059', 0.9813, 0.5142),\n",
       " ('2020-06-05 17:11:02.592120', 0.6727, -0.1044),\n",
       " ('2020-06-05 17:11:02.622208', 1.619, 1.5416)]"
      ]
     },
     "execution_count": 13,
     "metadata": {},
     "output_type": "execute_result"
    }
   ],
   "source": [
    "q('SELECT * FROM numbs WHERE no1>0.5').fetchmany(4)"
   ]
  },
  {
   "cell_type": "code",
   "execution_count": 14,
   "metadata": {},
   "outputs": [
    {
     "name": "stdout",
     "output_type": "stream",
     "text": [
      "('2020-06-05 14:10:11.236539', 0.12, 7.3)\n",
      "('2020-06-05 17:11:02.466032', -1.7498, 0.3427)\n",
      "('2020-06-05 17:11:02.485045', 1.153, -0.2524)\n"
     ]
    }
   ],
   "source": [
    "pointer=q('SELECT * FROM numbs')\n",
    "for i in range(3):\n",
    "    print(pointer.fetchone())"
   ]
  },
  {
   "cell_type": "code",
   "execution_count": 15,
   "metadata": {},
   "outputs": [
    {
     "data": {
      "text/plain": [
       "[('2020-06-05 17:11:02.501059', 0.9813, 0.5142),\n",
       " ('2020-06-05 17:11:02.524073', 0.2212, -1.07),\n",
       " ('2020-06-05 17:11:02.548093', -0.1895, 0.255)]"
      ]
     },
     "execution_count": 15,
     "metadata": {},
     "output_type": "execute_result"
    }
   ],
   "source": [
    "rows=pointer.fetchall()\n",
    "rows[:3]"
   ]
  },
  {
   "cell_type": "code",
   "execution_count": 17,
   "metadata": {},
   "outputs": [
    {
     "data": {
      "text/plain": [
       "<sqlite3.Cursor at 0x3d7de49b20>"
      ]
     },
     "execution_count": 17,
     "metadata": {},
     "output_type": "execute_result"
    }
   ],
   "source": [
    "q('DROP TABLE IF EXISTS numbs')"
   ]
  },
  {
   "cell_type": "code",
   "execution_count": 19,
   "metadata": {},
   "outputs": [
    {
     "data": {
      "text/plain": [
       "[]"
      ]
     },
     "execution_count": 19,
     "metadata": {},
     "output_type": "execute_result"
    }
   ],
   "source": [
    "q('SELECT * FROM sqlite_master').fetchall()"
   ]
  },
  {
   "cell_type": "code",
   "execution_count": 20,
   "metadata": {},
   "outputs": [],
   "source": [
    "con.close()"
   ]
  },
  {
   "cell_type": "code",
   "execution_count": 21,
   "metadata": {},
   "outputs": [
    {
     "data": {
      "text/plain": [
       "3681360"
      ]
     },
     "execution_count": 21,
     "metadata": {},
     "output_type": "execute_result"
    }
   ],
   "source": [
    "dtimes=np.arange('2019-01-01 10:00:00','2025-12-31 22:00:00',dtype='datetime64[m]')\n",
    "len(dtimes)"
   ]
  },
  {
   "cell_type": "code",
   "execution_count": 22,
   "metadata": {},
   "outputs": [],
   "source": [
    "dty=np.dtype([('Date','datetime64[m]'),('No1','f'),('No2','f')])\n",
    "data=np.zeros(len(dtimes),dtype=dty)"
   ]
  },
  {
   "cell_type": "code",
   "execution_count": 23,
   "metadata": {},
   "outputs": [
    {
     "data": {
      "text/plain": [
       "array([('1970-01-01T00:00', 0., 0.), ('1970-01-01T00:00', 0., 0.),\n",
       "       ('1970-01-01T00:00', 0., 0.), ..., ('1970-01-01T00:00', 0., 0.),\n",
       "       ('1970-01-01T00:00', 0., 0.), ('1970-01-01T00:00', 0., 0.)],\n",
       "      dtype=[('Date', '<M8[m]'), ('No1', '<f4'), ('No2', '<f4')])"
      ]
     },
     "execution_count": 23,
     "metadata": {},
     "output_type": "execute_result"
    }
   ],
   "source": [
    "data"
   ]
  },
  {
   "cell_type": "code",
   "execution_count": 25,
   "metadata": {},
   "outputs": [],
   "source": [
    "data['Date']=dtimes"
   ]
  },
  {
   "cell_type": "code",
   "execution_count": 26,
   "metadata": {},
   "outputs": [],
   "source": [
    "a=np.random.standard_normal((len(dtimes),2)).round(4)"
   ]
  },
  {
   "cell_type": "code",
   "execution_count": 30,
   "metadata": {},
   "outputs": [],
   "source": [
    "data['No1']=a[:,0]\n",
    "data['No2']=a[:,1]"
   ]
  },
  {
   "cell_type": "code",
   "execution_count": 31,
   "metadata": {},
   "outputs": [
    {
     "data": {
      "text/plain": [
       "58901760"
      ]
     },
     "execution_count": 31,
     "metadata": {},
     "output_type": "execute_result"
    }
   ],
   "source": [
    "data.nbytes"
   ]
  },
  {
   "cell_type": "code",
   "execution_count": 32,
   "metadata": {},
   "outputs": [
    {
     "name": "stdout",
     "output_type": "stream",
     "text": [
      "Wall time: 493 ms\n"
     ]
    }
   ],
   "source": [
    "%time np.save(path+'array',data)"
   ]
  },
  {
   "cell_type": "code",
   "execution_count": 33,
   "metadata": {},
   "outputs": [
    {
     "name": "stdout",
     "output_type": "stream",
     "text": [
      "Wall time: 96.1 ms\n"
     ]
    },
    {
     "data": {
      "text/plain": [
       "array([('2019-01-01T10:00',  1.5131,  0.6973),\n",
       "       ('2019-01-01T10:01', -1.722 , -0.4815),\n",
       "       ('2019-01-01T10:02',  0.8251,  0.3019), ...,\n",
       "       ('2025-12-31T21:57',  1.372 ,  0.6446),\n",
       "       ('2025-12-31T21:58', -1.2542,  0.1612),\n",
       "       ('2025-12-31T21:59', -1.1997, -1.097 )],\n",
       "      dtype=[('Date', '<M8[m]'), ('No1', '<f4'), ('No2', '<f4')])"
      ]
     },
     "execution_count": 33,
     "metadata": {},
     "output_type": "execute_result"
    }
   ],
   "source": [
    "%time np.load(path+'array.npy')"
   ]
  },
  {
   "cell_type": "code",
   "execution_count": 34,
   "metadata": {},
   "outputs": [
    {
     "name": "stdout",
     "output_type": "stream",
     "text": [
      "Wall time: 11.1 s\n"
     ]
    }
   ],
   "source": [
    "%time data=np.random.standard_normal((10000,6000)).round(4)"
   ]
  },
  {
   "cell_type": "code",
   "execution_count": 35,
   "metadata": {},
   "outputs": [
    {
     "data": {
      "text/plain": [
       "480000000"
      ]
     },
     "execution_count": 35,
     "metadata": {},
     "output_type": "execute_result"
    }
   ],
   "source": [
    "data.nbytes"
   ]
  },
  {
   "cell_type": "code",
   "execution_count": 36,
   "metadata": {},
   "outputs": [
    {
     "name": "stdout",
     "output_type": "stream",
     "text": [
      "Wall time: 5.04 s\n"
     ]
    }
   ],
   "source": [
    "%time np.save(path+'array',data)"
   ]
  },
  {
   "cell_type": "code",
   "execution_count": null,
   "metadata": {},
   "outputs": [],
   "source": []
  }
 ],
 "metadata": {
  "kernelspec": {
   "display_name": "Python 3",
   "language": "python",
   "name": "python3"
  },
  "language_info": {
   "codemirror_mode": {
    "name": "ipython",
    "version": 3
   },
   "file_extension": ".py",
   "mimetype": "text/x-python",
   "name": "python",
   "nbconvert_exporter": "python",
   "pygments_lexer": "ipython3",
   "version": "3.7.6"
  }
 },
 "nbformat": 4,
 "nbformat_minor": 4
}
